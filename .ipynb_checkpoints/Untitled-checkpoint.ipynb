{
 "cells": [
  {
   "cell_type": "code",
   "execution_count": 1,
   "id": "45630ab1-1f29-43b7-ac38-2264a2c5b93f",
   "metadata": {},
   "outputs": [],
   "source": [
    "import os\n",
    "import nibabel as nib\n",
    "import numpy as np"
   ]
  },
  {
   "cell_type": "code",
   "execution_count": 2,
   "id": "c4213bfd-2f5d-4500-8d9c-be7a2c3fa4d5",
   "metadata": {},
   "outputs": [
    {
     "data": {
      "text/plain": [
       "['ground truths', 'images']"
      ]
     },
     "execution_count": 2,
     "metadata": {},
     "output_type": "execute_result"
    }
   ],
   "source": [
    "Dir = r\"C:\\Users\\Rishabh\\Downloads\\label_192\\label_192\"\n",
    "masks_path = os.path.join(Dir, 'ground truths')\n",
    "images_path = os.path.join(Dir, 'images')\n",
    "masks = os.listdir(masks_path)\n",
    "images = os.listdir(images_path)\n",
    "os.listdir(Dir)"
   ]
  },
  {
   "cell_type": "code",
   "execution_count": 3,
   "id": "763d485a-0801-4d77-bff6-130a6cf22b50",
   "metadata": {},
   "outputs": [
    {
     "name": "stdout",
     "output_type": "stream",
     "text": [
      "(512, 512, 28)    (512, 512, 28)\n"
     ]
    }
   ],
   "source": [
    "index = 0\n",
    "img = nib.load(os.path.join(images_path, images[index]))\n",
    "msk = nib.load(os.path.join(masks_path, images[index]))\n",
    "img_data = img.get_fdata()\n",
    "msk_data = msk.get_fdata()\n",
    "\n",
    "# Print the shape of the data\n",
    "print(img_data.shape,'  ',msk_data.shape)"
   ]
  },
  {
   "cell_type": "code",
   "execution_count": 4,
   "id": "37efe002-1191-404d-af90-5f0365738818",
   "metadata": {},
   "outputs": [
    {
     "data": {
      "text/plain": [
       "(array([0., 2., 3.]),\n",
       " array([-2048., -1024., -1023., ...,  2929.,  3070.,  3071.]))"
      ]
     },
     "execution_count": 4,
     "metadata": {},
     "output_type": "execute_result"
    }
   ],
   "source": [
    "np.unique(msk_data), np.unique(img_data)"
   ]
  },
  {
   "cell_type": "code",
   "execution_count": 5,
   "id": "8228427c-5717-4de6-8e15-8650274f4047",
   "metadata": {},
   "outputs": [
    {
     "ename": "ModuleNotFoundError",
     "evalue": "No module named 'src.Models.D_UNet'",
     "output_type": "error",
     "traceback": [
      "\u001b[31m---------------------------------------------------------------------------\u001b[39m",
      "\u001b[31mModuleNotFoundError\u001b[39m                       Traceback (most recent call last)",
      "\u001b[36mCell\u001b[39m\u001b[36m \u001b[39m\u001b[32mIn[5]\u001b[39m\u001b[32m, line 1\u001b[39m\n\u001b[32m----> \u001b[39m\u001b[32m1\u001b[39m \u001b[38;5;28;01mfrom\u001b[39;00m\u001b[38;5;250m \u001b[39m\u001b[34;01msrc\u001b[39;00m\u001b[34;01m.\u001b[39;00m\u001b[34;01mModels\u001b[39;00m\u001b[34;01m.\u001b[39;00m\u001b[34;01mD_UNet\u001b[39;00m\u001b[38;5;250m \u001b[39m\u001b[38;5;28;01mimport\u001b[39;00m UNet3D\n",
      "\u001b[31mModuleNotFoundError\u001b[39m: No module named 'src.Models.D_UNet'"
     ]
    }
   ],
   "source": [
    "from src.Models.D_UNet import UNet3D"
   ]
  },
  {
   "cell_type": "code",
   "execution_count": null,
   "id": "0adb36ab-725b-48c9-84b6-e73a9659ee3f",
   "metadata": {},
   "outputs": [],
   "source": []
  }
 ],
 "metadata": {
  "kernelspec": {
   "display_name": "Python 3 (ipykernel)",
   "language": "python",
   "name": "python3"
  },
  "language_info": {
   "codemirror_mode": {
    "name": "ipython",
    "version": 3
   },
   "file_extension": ".py",
   "mimetype": "text/x-python",
   "name": "python",
   "nbconvert_exporter": "python",
   "pygments_lexer": "ipython3",
   "version": "3.11.11"
  }
 },
 "nbformat": 4,
 "nbformat_minor": 5
}
