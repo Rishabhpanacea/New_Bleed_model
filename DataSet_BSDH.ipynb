{
 "cells": [
  {
   "cell_type": "code",
   "execution_count": 38,
   "id": "eecc5f52-db6d-4ada-aa42-c85c073f65f0",
   "metadata": {},
   "outputs": [],
   "source": [
    "import os\n",
    "import nibabel as nib\n",
    "import numpy as np\n",
    "import torch.optim as optim\n",
    "import albumentations as A\n",
    "from albumentations.pytorch import ToTensorV2\n",
    "from src.utils.losses import GeneralizedDiceLoss, DiceLoss, BCEDiceLoss\n",
    "from torch.utils.data import Dataset, DataLoader\n",
    "from src.utils.utils import custom_collate_BHSD\n",
    "import torch.nn.functional as F\n",
    "import torch\n",
    "from src.configuration.config import (\n",
    "    datadict, TrainingDir, batch_size, num_epochs, num_workers,\n",
    "    pin_memory, LEARNING_RATE, IMAGE_HEIGHT, IMAGE_WIDTH\n",
    ")"
   ]
  },
  {
   "cell_type": "code",
   "execution_count": 39,
   "id": "5286c3d4-b44b-49be-bfcd-326492d14dd1",
   "metadata": {},
   "outputs": [
    {
     "data": {
      "text/plain": [
       "['ground truths', 'images']"
      ]
     },
     "execution_count": 39,
     "metadata": {},
     "output_type": "execute_result"
    }
   ],
   "source": [
    "Dir = r\"C:\\Users\\Rishabh\\Downloads\\label_192\\label_192\"\n",
    "masks_path = os.path.join(Dir, 'ground truths')\n",
    "images_path = os.path.join(Dir, 'images')\n",
    "masks = os.listdir(masks_path)\n",
    "images = os.listdir(images_path)\n",
    "os.listdir(Dir)"
   ]
  },
  {
   "cell_type": "code",
   "execution_count": 40,
   "id": "501bdb8d-6fb2-46bd-a562-f62e7d715079",
   "metadata": {},
   "outputs": [],
   "source": [
    "newDatadict = {\n",
    "    'BackGround': 0,\n",
    "    'Bleed-Subdural': 1,\n",
    "    'Scalp-Hematoma': 2,\n",
    "    'Bleed-Others': 3,\n",
    "    'Bleed-Intraventricular': 4,\n",
    "    'Bleed-Epidural': 5,}"
   ]
  },
  {
   "cell_type": "code",
   "execution_count": 41,
   "id": "40d6a4f6-6e7e-430e-9d77-e39fd0d22ec1",
   "metadata": {},
   "outputs": [],
   "source": [
    "class BHSD_3D(Dataset):\n",
    "    def __init__(self, image_dir, mask_dir, transform=None, datadict=newDatadict):\n",
    "        self.image_dir = image_dir\n",
    "        self.mask_dir = mask_dir\n",
    "        self.transform = transform\n",
    "        self.images = os.listdir(image_dir)\n",
    "        self.series = os.listdir(mask_dir)\n",
    "        self.datadict = datadict\n",
    "        reversed_dict = {v: k for k, v in datadict.items()}\n",
    "        self.reversed_dict = reversed_dict\n",
    "\n",
    "    def transform_volume(self, image_volume, mask_volume):\n",
    "        transformed = self.transform(\n",
    "                image=image_volume, \n",
    "                mask=mask_volume\n",
    "            )\n",
    "        images = transformed['image']\n",
    "        masks = transformed['mask'].permute(2, 0, 1)\n",
    "        masks = F.one_hot(masks.long(), num_classes=6)\n",
    "        masks = masks.permute(3, 0, 1, 2)\n",
    "        return images , masks.float()\n",
    "\n",
    "    \n",
    "\n",
    "    def __len__(self):\n",
    "        return len(self.images)\n",
    "\n",
    "    def __getitem__(self, index):\n",
    "        nii_segementation = nib.load(os.path.join(self.mask_dir, self.images[index]))\n",
    "        nii_image = nib.load(os.path.join(self.image_dir, self.images[index]))\n",
    "        \n",
    "        # Get the image data as a NumPy array\n",
    "        image_data = nii_image.get_fdata()\n",
    "        segementation_data = nii_segementation.get_fdata()\n",
    "\n",
    "        if self.transform is not None:\n",
    "            transformed_image_volume, transformed_mask_volume = self.transform_volume(image_data, segementation_data)\n",
    "\n",
    "        transformed_image_volume = transformed_image_volume.unsqueeze(0)\n",
    "        # transformed_mask_volume = transformed_mask_volume.unsqueeze(0)\n",
    "        return transformed_image_volume, transformed_mask_volume"
   ]
  },
  {
   "cell_type": "code",
   "execution_count": 42,
   "id": "d528f811-79f5-443c-a2a3-0ebc1493b83f",
   "metadata": {},
   "outputs": [],
   "source": [
    "IMAGE_HEIGHT = 128\n",
    "IMAGE_WIDTH = 128\n",
    "train_transform = A.Compose(\n",
    "    [\n",
    "        A.Resize(height=IMAGE_HEIGHT, width=IMAGE_WIDTH),\n",
    "        A.Rotate(limit=35, p=1.0),\n",
    "        A.HorizontalFlip(p=0.5),\n",
    "        A.VerticalFlip(p=0.1),\n",
    "        A.Normalize(\n",
    "            mean=[0.0, 0.0, 0.0],\n",
    "            std=[1.0, 1.0, 1.0],\n",
    "            max_pixel_value=255.0,\n",
    "        ),\n",
    "        ToTensorV2(),\n",
    "    ],\n",
    ")\n"
   ]
  },
  {
   "cell_type": "code",
   "execution_count": 43,
   "id": "886b4307-ac46-4c13-810a-0df116c6eb46",
   "metadata": {},
   "outputs": [],
   "source": [
    "data = BHSD_3D(images_path, masks_path, train_transform)"
   ]
  },
  {
   "cell_type": "code",
   "execution_count": 44,
   "id": "f48fb208-1f1a-4883-871b-f38b6402326c",
   "metadata": {},
   "outputs": [],
   "source": [
    "x, y = data[0]"
   ]
  },
  {
   "cell_type": "code",
   "execution_count": 45,
   "id": "4c011631-ec6c-4f8c-ba0f-ec13ae2c735a",
   "metadata": {},
   "outputs": [
    {
     "data": {
      "text/plain": [
       "(torch.Size([1, 28, 128, 128]), torch.Size([6, 28, 128, 128]))"
      ]
     },
     "execution_count": 45,
     "metadata": {},
     "output_type": "execute_result"
    }
   ],
   "source": [
    "x.shape, y.shape"
   ]
  },
  {
   "cell_type": "code",
   "execution_count": 46,
   "id": "6e132338-3f01-4735-8bd6-463638e98dd1",
   "metadata": {},
   "outputs": [
    {
     "name": "stdout",
     "output_type": "stream",
     "text": [
      "tensor([0., 1.])\n",
      "tensor([0.])\n",
      "tensor([0., 1.])\n",
      "tensor([0., 1.])\n",
      "tensor([0.])\n",
      "tensor([0.])\n"
     ]
    }
   ],
   "source": [
    "for i in range(y.shape[0]):\n",
    "    print(torch.unique(y[i,:,:,:]))"
   ]
  },
  {
   "cell_type": "code",
   "execution_count": 75,
   "id": "57ae5b67-30cf-41d0-a500-2366e89bf745",
   "metadata": {},
   "outputs": [],
   "source": [
    "def new_custom_collate_BHSD(batch):\n",
    "    max_depth = 0\n",
    "    for x,y in batch:\n",
    "        max_depth = max(max_depth, x.shape[1])\n",
    "\n",
    "\n",
    "    newImageVolume = []\n",
    "    newMaskVolume = []\n",
    "    for i in range(len(batch)):\n",
    "        remmaining_slice = max_depth - batch[i][0].shape[1]\n",
    "        # print(remmaining_slice)\n",
    "        if remmaining_slice > 0:\n",
    "            empty_slice = torch.zeros((1,remmaining_slice,batch[i][0].shape[2], batch[i][0].shape[3]))\n",
    "            empty_slice_mask = torch.zeros((6,remmaining_slice,batch[i][0].shape[2], batch[i][0].shape[3]))\n",
    "            newImageVolume.append(torch.cat((batch[i][0], empty_slice), dim=1))\n",
    "            newMaskVolume.append(torch.cat((batch[i][1], empty_slice_mask), dim=1))\n",
    "        else:\n",
    "            newImageVolume.append(batch[i][0])\n",
    "            newMaskVolume.append(batch[i][1])\n",
    "    \n",
    "\n",
    "    newImageVolume = torch.stack(newImageVolume, dim=0)\n",
    "    newMaskVolume = torch.stack(newMaskVolume, dim=0)\n",
    "\n",
    "    return newImageVolume, newMaskVolume"
   ]
  },
  {
   "cell_type": "code",
   "execution_count": 76,
   "id": "0f17b6a8-b7bb-407a-b55f-e0c241538c2c",
   "metadata": {},
   "outputs": [],
   "source": [
    "train_loader = DataLoader(\n",
    "        data,\n",
    "        batch_size=batch_size,\n",
    "        num_workers=num_workers,\n",
    "        pin_memory=pin_memory,\n",
    "        shuffle=True,\n",
    "        collate_fn=new_custom_collate_BHSD,\n",
    "    )"
   ]
  },
  {
   "cell_type": "code",
   "execution_count": 77,
   "id": "c42f9c2a-9c65-4e64-b3c2-56b2afd9f883",
   "metadata": {},
   "outputs": [
    {
     "name": "stdout",
     "output_type": "stream",
     "text": [
      "0    torch.Size([4, 1, 40, 128, 128])    torch.Size([4, 6, 40, 128, 128])\n",
      "1    torch.Size([4, 1, 38, 128, 128])    torch.Size([4, 6, 38, 128, 128])\n",
      "2    torch.Size([4, 1, 37, 128, 128])    torch.Size([4, 6, 37, 128, 128])\n",
      "3    torch.Size([4, 1, 46, 128, 128])    torch.Size([4, 6, 46, 128, 128])\n",
      "4    torch.Size([4, 1, 39, 128, 128])    torch.Size([4, 6, 39, 128, 128])\n",
      "5    torch.Size([4, 1, 42, 128, 128])    torch.Size([4, 6, 42, 128, 128])\n",
      "6    torch.Size([4, 1, 35, 128, 128])    torch.Size([4, 6, 35, 128, 128])\n",
      "7    torch.Size([4, 1, 32, 128, 128])    torch.Size([4, 6, 32, 128, 128])\n",
      "8    torch.Size([4, 1, 40, 128, 128])    torch.Size([4, 6, 40, 128, 128])\n",
      "9    torch.Size([4, 1, 32, 128, 128])    torch.Size([4, 6, 32, 128, 128])\n",
      "10    torch.Size([4, 1, 40, 128, 128])    torch.Size([4, 6, 40, 128, 128])\n",
      "11    torch.Size([4, 1, 40, 128, 128])    torch.Size([4, 6, 40, 128, 128])\n",
      "12    torch.Size([4, 1, 33, 128, 128])    torch.Size([4, 6, 33, 128, 128])\n",
      "13    torch.Size([4, 1, 32, 128, 128])    torch.Size([4, 6, 32, 128, 128])\n",
      "14    torch.Size([4, 1, 40, 128, 128])    torch.Size([4, 6, 40, 128, 128])\n",
      "15    torch.Size([4, 1, 36, 128, 128])    torch.Size([4, 6, 36, 128, 128])\n",
      "16    torch.Size([4, 1, 32, 128, 128])    torch.Size([4, 6, 32, 128, 128])\n",
      "17    torch.Size([4, 1, 32, 128, 128])    torch.Size([4, 6, 32, 128, 128])\n",
      "18    torch.Size([4, 1, 40, 128, 128])    torch.Size([4, 6, 40, 128, 128])\n",
      "19    torch.Size([4, 1, 36, 128, 128])    torch.Size([4, 6, 36, 128, 128])\n",
      "20    torch.Size([4, 1, 38, 128, 128])    torch.Size([4, 6, 38, 128, 128])\n",
      "21    torch.Size([4, 1, 34, 128, 128])    torch.Size([4, 6, 34, 128, 128])\n",
      "22    torch.Size([4, 1, 42, 128, 128])    torch.Size([4, 6, 42, 128, 128])\n",
      "23    torch.Size([4, 1, 38, 128, 128])    torch.Size([4, 6, 38, 128, 128])\n",
      "24    torch.Size([4, 1, 38, 128, 128])    torch.Size([4, 6, 38, 128, 128])\n",
      "25    torch.Size([4, 1, 44, 128, 128])    torch.Size([4, 6, 44, 128, 128])\n",
      "26    torch.Size([4, 1, 46, 128, 128])    torch.Size([4, 6, 46, 128, 128])\n",
      "27    torch.Size([4, 1, 36, 128, 128])    torch.Size([4, 6, 36, 128, 128])\n",
      "28    torch.Size([4, 1, 34, 128, 128])    torch.Size([4, 6, 34, 128, 128])\n",
      "29    torch.Size([4, 1, 36, 128, 128])    torch.Size([4, 6, 36, 128, 128])\n",
      "30    torch.Size([4, 1, 32, 128, 128])    torch.Size([4, 6, 32, 128, 128])\n",
      "31    torch.Size([4, 1, 35, 128, 128])    torch.Size([4, 6, 35, 128, 128])\n",
      "32    torch.Size([4, 1, 34, 128, 128])    torch.Size([4, 6, 34, 128, 128])\n",
      "33    torch.Size([4, 1, 32, 128, 128])    torch.Size([4, 6, 32, 128, 128])\n",
      "34    torch.Size([4, 1, 34, 128, 128])    torch.Size([4, 6, 34, 128, 128])\n",
      "35    torch.Size([4, 1, 38, 128, 128])    torch.Size([4, 6, 38, 128, 128])\n",
      "36    torch.Size([4, 1, 36, 128, 128])    torch.Size([4, 6, 36, 128, 128])\n",
      "37    torch.Size([4, 1, 36, 128, 128])    torch.Size([4, 6, 36, 128, 128])\n",
      "38    torch.Size([4, 1, 39, 128, 128])    torch.Size([4, 6, 39, 128, 128])\n",
      "39    torch.Size([4, 1, 60, 128, 128])    torch.Size([4, 6, 60, 128, 128])\n",
      "40    torch.Size([4, 1, 32, 128, 128])    torch.Size([4, 6, 32, 128, 128])\n",
      "41    torch.Size([4, 1, 40, 128, 128])    torch.Size([4, 6, 40, 128, 128])\n",
      "42    torch.Size([4, 1, 40, 128, 128])    torch.Size([4, 6, 40, 128, 128])\n",
      "43    torch.Size([4, 1, 38, 128, 128])    torch.Size([4, 6, 38, 128, 128])\n",
      "44    torch.Size([4, 1, 46, 128, 128])    torch.Size([4, 6, 46, 128, 128])\n",
      "45    torch.Size([4, 1, 36, 128, 128])    torch.Size([4, 6, 36, 128, 128])\n",
      "46    torch.Size([4, 1, 36, 128, 128])    torch.Size([4, 6, 36, 128, 128])\n",
      "47    torch.Size([4, 1, 36, 128, 128])    torch.Size([4, 6, 36, 128, 128])\n"
     ]
    }
   ],
   "source": [
    "for batch_idx, (inputs, targets) in enumerate(train_loader):\n",
    "    print(batch_idx,'  ',inputs.shape, '  ', targets.shape)"
   ]
  },
  {
   "cell_type": "code",
   "execution_count": null,
   "id": "a6fa494e-f3c7-44dd-a8a6-98148349c5bc",
   "metadata": {},
   "outputs": [],
   "source": []
  }
 ],
 "metadata": {
  "kernelspec": {
   "display_name": "Python 3 (ipykernel)",
   "language": "python",
   "name": "python3"
  },
  "language_info": {
   "codemirror_mode": {
    "name": "ipython",
    "version": 3
   },
   "file_extension": ".py",
   "mimetype": "text/x-python",
   "name": "python",
   "nbconvert_exporter": "python",
   "pygments_lexer": "ipython3",
   "version": "3.11.11"
  }
 },
 "nbformat": 4,
 "nbformat_minor": 5
}
